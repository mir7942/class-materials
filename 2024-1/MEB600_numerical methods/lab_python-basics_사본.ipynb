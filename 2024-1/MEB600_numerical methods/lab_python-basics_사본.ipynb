{
  "cells": [
    {
      "cell_type": "markdown",
      "metadata": {
        "id": "view-in-github",
        "colab_type": "text"
      },
      "source": [
        "<a href=\"https://colab.research.google.com/github/mir7942/class-materials/blob/main/2024-1/MEB600_numerical%20methods/lab_python-basics_%EC%82%AC%EB%B3%B8.ipynb\" target=\"_parent\"><img src=\"https://colab.research.google.com/assets/colab-badge.svg\" alt=\"Open In Colab\"/></a>"
      ]
    },
    {
      "cell_type": "markdown",
      "metadata": {
        "id": "YfRIce0HjidA"
      },
      "source": [
        "# 파이썬 기초\n",
        "\n",
        "**실습을 시작하기 전에, 메뉴의 [런타임]-[런타임 유형 변경]에서 '하드웨어 가속기'를 'CPU'로 선택해야 한다.**"
      ]
    },
    {
      "cell_type": "markdown",
      "source": [
        "## 파이썬(Python)이란\n",
        "1990년 귀도 반 로섬(Guido Van Rossum)이 개발한 인터프리터(interpreter) 언어\n",
        "* 인터프리터 언어: 실행파일로 변환하지 않고, 한 줄씩 소스코드를 해석해서 실행 결과를 확인할 수 있는 언어\n",
        "\n",
        "파이썬의 확장자는 .py이나, Colab에서는 .ipynb로 저장된다."
      ],
      "metadata": {
        "id": "GoJlX1fpLNKk"
      }
    },
    {
      "cell_type": "markdown",
      "source": [
        "### 특징\n",
        "* 쉬운 문법\n",
        "* 무료\n",
        "* 빠른 개발 속도\n",
        "\n",
        "### 주요 적용 분야\n",
        "* 시스템 유틸리티 개발\n",
        "* GUI 프로그래밍\n",
        "* 웹 프로그래밍\n",
        "* 수치 연산\n",
        "* 데이터베이스 프로그래밍\n",
        "* 데이터 분석\n",
        "* 사물 인터넷\n",
        "* 인공지능 프로그래밍"
      ],
      "metadata": {
        "id": "5kysmx-bO4qj"
      }
    },
    {
      "cell_type": "markdown",
      "source": [
        "## 파이썬 설치 및 사용\n",
        "파이썬을 설치 및 사용하는 방법은 세 가지가 존재한다."
      ],
      "metadata": {
        "id": "fYuLVquYLfAD"
      }
    },
    {
      "cell_type": "markdown",
      "source": [
        "### 방법 1: 파이썬 공식 홈페이지 이용\n",
        "파이썬 공식 홈페이지의 [다운로드 페이지](https://www.python.org/downloads/)에서 다운로드할 수 있다.\n",
        "\n",
        "좀 더 편리한 프로그래밍을 위해서는 [Visual Studio Code](https://code.visualstudio.com/), [PyCharm](https://www.jetbrains.com/pycharm/download/)과 같은 별도의 에디터 프로그램을 설치하는 것이 좋다."
      ],
      "metadata": {
        "id": "j65WyjnDOz70"
      }
    },
    {
      "cell_type": "markdown",
      "source": [
        "### 방법 2: 아나콘다(Anaconda) 이용\n",
        "[아나콘다](https://www.anaconda.com/products/individual)는 파이썬을 포함하여 과학 계산과 관련된 프로그래밍 언어 및 개발 환경, 관련 라이브러리들을 쉽게 설치하게 해 주는 배포판으로, 필요한 프로그램들을 한 번에 설치할 수 있다."
      ],
      "metadata": {
        "id": "v7JyOVFtPpW3"
      }
    },
    {
      "cell_type": "markdown",
      "source": [
        "### 방법 3: 웹 기반 환경 이용\n",
        "웹 상에서 파이썬 프로그래밍을 할 수 있는 환경을 제공하는 서비스들이 존재한다. 우리는 이 중, [Google Colaboratory](https://colab.research.google.com/)(줄여서 Colab)을 이용한다."
      ],
      "metadata": {
        "id": "lCuWFRKEPtnW"
      }
    },
    {
      "cell_type": "markdown",
      "metadata": {
        "id": "0ixx2xsUjidC"
      },
      "source": [
        "## 할당\n",
        "할당은 변수명에 값을 부과하는 것이다. 스칼라 변수에 값을 할당하는 것은 일반적인 컴퓨터 언어와 사용법이 비슷하다.\n",
        "\n",
        "*아래 코드에서 '#' 뒤에 나오는 문장을 주석을 의미함다.*"
      ]
    },
    {
      "cell_type": "code",
      "source": [
        "a = 4 # 정수\n",
        "b = -3.45 # 실수\n",
        "c = 4.24e2 # 지수: 4.24 x 10^2"
      ],
      "metadata": {
        "id": "O1ovGh8Wj1NX"
      },
      "execution_count": null,
      "outputs": []
    },
    {
      "cell_type": "markdown",
      "source": [
        "## 출력\n",
        "메모리에 저장된 변수의 값을 출력할 때는 [print](https://docs.python.org/3/library/functions.html#print) 함수를 이용한다."
      ],
      "metadata": {
        "id": "QWDs9K92TG8A"
      }
    },
    {
      "cell_type": "code",
      "source": [
        "print(a)\n",
        "print(b)\n",
        "print(c)"
      ],
      "metadata": {
        "id": "0wyElogKNCya"
      },
      "execution_count": null,
      "outputs": []
    },
    {
      "cell_type": "markdown",
      "source": [
        "다양한 방법으로 출력이 가능하다."
      ],
      "metadata": {
        "id": "3IyrvA44SdXC"
      }
    },
    {
      "cell_type": "code",
      "source": [
        "print(a, b, c) # 컴마(comman)를 사용하면 각 값 사이에 공백이 추가된다."
      ],
      "metadata": {
        "id": "xr631PXPSfjM"
      },
      "execution_count": null,
      "outputs": []
    },
    {
      "cell_type": "code",
      "source": [
        "print(\"Hello\", \"World\") # 큰 따옴표를 이용해 문자열을 출력할 수 있다."
      ],
      "metadata": {
        "id": "oOIBK6JHSjb9"
      },
      "execution_count": null,
      "outputs": []
    },
    {
      "cell_type": "code",
      "source": [
        "print(\"Hello\\nWorld\") # \\n을 사용해서 줄바꿈이 가능"
      ],
      "metadata": {
        "id": "PiZA70clSsiM"
      },
      "execution_count": null,
      "outputs": []
    },
    {
      "cell_type": "code",
      "source": [
        "print(\"Hello=\", 1) # 문자와 값을 함께 출력"
      ],
      "metadata": {
        "id": "VOwOZ8HbSxr2"
      },
      "execution_count": null,
      "outputs": []
    },
    {
      "cell_type": "code",
      "source": [
        "val = 1\n",
        "print(f\"Hello = {val}\") # f-string을 이용한 출력 형식 지정. 문자열 안에 변수를 넣을 수 있다."
      ],
      "metadata": {
        "id": "xR0cKpbbS2cE"
      },
      "execution_count": null,
      "outputs": []
    },
    {
      "cell_type": "markdown",
      "source": [
        "## 수학 모듈\n",
        "모듈은 다른 사람들이 만들어 놓은 기능들을 모아놓은 것이다. 파이썬은 다양한 모듈들을 제공하고 있다.\n",
        "\n",
        "그 중, [math](https://docs.python.org/ko/3/library/math.html) 모듈은 수학과 관련된 기능을 제공한다. *math* 모듈을 가져오기 위해서는 [import](https://wikidocs.net/77) 기능을 이용한다."
      ],
      "metadata": {
        "id": "XHgORHTFTNBV"
      }
    },
    {
      "cell_type": "code",
      "source": [
        "import math # 파이썬의 math 모듈을 가져온다."
      ],
      "metadata": {
        "id": "o141H3QEj2v8"
      },
      "execution_count": null,
      "outputs": []
    },
    {
      "cell_type": "markdown",
      "source": [
        "*math* 모듈은 수학에서 사용하는 [다양한 상수](https://docs.python.org/3/library/math.html#constants)를 제공한다."
      ],
      "metadata": {
        "id": "dowpPXN4N7Le"
      }
    },
    {
      "cell_type": "code",
      "source": [
        "math.pi # 원주율 3.141592..."
      ],
      "metadata": {
        "id": "n-bm0VsnkOl9"
      },
      "execution_count": null,
      "outputs": []
    },
    {
      "cell_type": "markdown",
      "source": [
        "*math* 모듈은 [수학 함수](https://docs.python.org/ko/3/library/math.html)도 제공한다."
      ],
      "metadata": {
        "id": "mzrCMOuCTgxx"
      }
    },
    {
      "cell_type": "code",
      "source": [
        "math.sin(math.pi / 2) # 사인 함수"
      ],
      "metadata": {
        "id": "qInwF1QyTUvJ"
      },
      "execution_count": null,
      "outputs": []
    },
    {
      "cell_type": "markdown",
      "source": [
        "## 사칙 연산\n",
        "파이썬은 다른 컴퓨터 언어와 비슷한 방법으로 사칙연산을 제공한다."
      ],
      "metadata": {
        "id": "gyIxshRWvlo2"
      }
    },
    {
      "cell_type": "code",
      "source": [
        "a = 3\n",
        "b = 4"
      ],
      "metadata": {
        "id": "PFzE2c9ovUN3"
      },
      "execution_count": null,
      "outputs": []
    },
    {
      "cell_type": "code",
      "source": [
        "# 더하기\n",
        "a + b"
      ],
      "metadata": {
        "id": "lv05lgA5v49m"
      },
      "execution_count": null,
      "outputs": []
    },
    {
      "cell_type": "code",
      "source": [
        "# 빼기\n",
        "a - b"
      ],
      "metadata": {
        "id": "_3it73XZv6Ac"
      },
      "execution_count": null,
      "outputs": []
    },
    {
      "cell_type": "code",
      "source": [
        "# 곱하기\n",
        "a * b"
      ],
      "metadata": {
        "id": "PvM4JDKov7GU"
      },
      "execution_count": null,
      "outputs": []
    },
    {
      "cell_type": "code",
      "source": [
        "# 나누기\n",
        "a / b"
      ],
      "metadata": {
        "id": "evHN3_jDv8yd"
      },
      "execution_count": null,
      "outputs": []
    },
    {
      "cell_type": "code",
      "source": [
        "# a의 b제곱\n",
        "a ** b"
      ],
      "metadata": {
        "id": "BGdaDV85v-bV"
      },
      "execution_count": null,
      "outputs": []
    },
    {
      "cell_type": "code",
      "source": [
        "# b를 a로 나눴을 때의 나머지\n",
        "b % a"
      ],
      "metadata": {
        "id": "z3kYLaBdv_nV"
      },
      "execution_count": null,
      "outputs": []
    },
    {
      "cell_type": "code",
      "source": [
        "# b를 a로 나눴을 때의 몫\n",
        "b // a"
      ],
      "metadata": {
        "id": "riPGnBLgwApb"
      },
      "execution_count": null,
      "outputs": []
    },
    {
      "cell_type": "markdown",
      "source": [
        "## 문자열\n",
        "\n",
        "파이썬에는 문자열을 나타내기 위해 큰 따옴표와 작은 따옴표를 모두 이용할 수 있다."
      ],
      "metadata": {
        "id": "eDiSQaKQuTZK"
      }
    },
    {
      "cell_type": "code",
      "source": [
        "f = 'Alison'\n",
        "print(f)"
      ],
      "metadata": {
        "id": "_O2EQXGluGxM"
      },
      "execution_count": null,
      "outputs": []
    },
    {
      "cell_type": "code",
      "source": [
        "s = \"Krauss\"\n",
        "print(s)"
      ],
      "metadata": {
        "id": "jtAHZuuhupcH"
      },
      "execution_count": null,
      "outputs": []
    },
    {
      "cell_type": "markdown",
      "source": [
        "*+* 연산을 사용해 두 개의 문자열을 결합할 수 있다."
      ],
      "metadata": {
        "id": "FBC2wJLMuvRl"
      }
    },
    {
      "cell_type": "code",
      "source": [
        "f + ' ' + s"
      ],
      "metadata": {
        "id": "apm6Nykyu49V"
      },
      "execution_count": null,
      "outputs": []
    },
    {
      "cell_type": "markdown",
      "source": [
        "문자열의 길이는 [len](https://docs.python.org/ko/3/library/functions.html#len) 함수로 확인할 수 있다."
      ],
      "metadata": {
        "id": "J4bX5UEQvFMe"
      }
    },
    {
      "cell_type": "code",
      "source": [
        "a = \"Hello World\"\n",
        "len(a) # 11"
      ],
      "metadata": {
        "id": "XgICKASyu992"
      },
      "execution_count": null,
      "outputs": []
    },
    {
      "cell_type": "markdown",
      "source": [
        "## 불(bool) 자료형\n",
        "참(True)과 거짓(False)을 나타내는 자료형을 표현한다."
      ],
      "metadata": {
        "id": "i69MnVedQGa7"
      }
    },
    {
      "cell_type": "code",
      "source": [
        "a = True # 참\n",
        "b = False # 거짓"
      ],
      "metadata": {
        "id": "_sulr4dKQLao"
      },
      "execution_count": null,
      "outputs": []
    },
    {
      "cell_type": "markdown",
      "source": [
        "## 리스트(list) 자료형\n",
        "여러 개의 값을 일렬로 저장하는 자료형이다."
      ],
      "metadata": {
        "id": "Zy3k4gWdQqv9"
      }
    },
    {
      "cell_type": "code",
      "source": [
        "list1 = [1, 2, 3, 4] # 리스트는 대괄호로 감싸주고, 컴마로 구분한다.\n",
        "list2 = [] # 빈 리스트\n",
        "list3 = [\"Hello\", \"World\"] # 문자열 리스트\n",
        "list4 = [1, 2, \"Hello\", \"World\"] # 숫자와 문자열을 섞는 것도 가능\n",
        "list5 = [1, 2, [3, 4]] # 리스트 안에 리스트를 포함하는 것도 가능"
      ],
      "metadata": {
        "id": "38MlQF7PQucB"
      },
      "execution_count": null,
      "outputs": []
    },
    {
      "cell_type": "code",
      "source": [
        "a = [1, 2, 3]\n",
        "a[0] # 리스트 a의 0번째 요소"
      ],
      "metadata": {
        "id": "L_kHDlB3Q0Sq"
      },
      "execution_count": null,
      "outputs": []
    },
    {
      "cell_type": "code",
      "source": [
        "a[-1] # 리스트 a의 마지막 요소. 마지막 요소의 인덱스는 -1로 표시한다."
      ],
      "metadata": {
        "id": "iPcMiEvNQ3ri"
      },
      "execution_count": null,
      "outputs": []
    },
    {
      "cell_type": "code",
      "source": [
        "a[-2] # 리스트의 끝에서 두 번째 요소"
      ],
      "metadata": {
        "id": "9hhYWSR4Q82Z"
      },
      "execution_count": null,
      "outputs": []
    },
    {
      "cell_type": "code",
      "source": [
        "a = [1, 2, 3]\n",
        "b = [4, 5, 6]\n",
        "c = a + b # 리스트 a에 리스트 b를 추가\n",
        "c"
      ],
      "metadata": {
        "id": "bfzr6AYORkfY"
      },
      "execution_count": null,
      "outputs": []
    },
    {
      "cell_type": "code",
      "source": [
        "len(a) # 리스트 a의 길이"
      ],
      "metadata": {
        "id": "hpjTIY7qRnqo"
      },
      "execution_count": null,
      "outputs": []
    },
    {
      "cell_type": "markdown",
      "source": [
        "리스트에 대한 자세한 설명은 [여기](https://wikidocs.net/14)를 참고한다."
      ],
      "metadata": {
        "id": "8WkOVlwpROZ6"
      }
    },
    {
      "cell_type": "markdown",
      "source": [
        "## 슬라이싱(slicing)\n",
        "슬라이싱은 여러 개의 값에 대해 범위를 지정해서 가져오는 방법이다."
      ],
      "metadata": {
        "id": "4rjHjg7QRCBX"
      }
    },
    {
      "cell_type": "code",
      "source": [
        "a = [1, 2, 3, 4, 5]\n",
        "a[0:2] # 0번째에서 1번째까지. 마지막 2는 포함하지 않는다."
      ],
      "metadata": {
        "id": "-66jwTCARxiE"
      },
      "execution_count": null,
      "outputs": []
    },
    {
      "cell_type": "code",
      "source": [
        "b = a[:3] # 처음부터 2번째까지. 콜론 앞에 값을 생략한다.\n",
        "b"
      ],
      "metadata": {
        "id": "bTvzEfCzR0Xg"
      },
      "execution_count": null,
      "outputs": []
    },
    {
      "cell_type": "code",
      "source": [
        "c = a[3:] # 3번째부터 끝까지. 콜론 뒤에 값을 생략한다.\n",
        "c"
      ],
      "metadata": {
        "id": "hkJ8uK7TR1EQ"
      },
      "execution_count": null,
      "outputs": []
    },
    {
      "cell_type": "markdown",
      "source": [
        "## Numpy\n",
        "\n",
        "파이썬에서 벡터나 행렬을 다루기 위해서는 [Numpy](https://numpy.org/)라는 모듈을 이용한다. [Numpy](https://numpy.org/)는 파이썬 환경에서 과학 계산 분야에 필요한 기능들을 모아 놓은 패키지이다. 딥러닝 구현에 필요한 다양한 기능을 제공하며, Tensorflow나 PyTorch 같은 라이브러리들도 Numpy를 지원한다.\n",
        "\n",
        "사용방법은 MATLAB과 매우 유사하다.\n",
        "\n",
        "Colab을 이용할 경우, 기본적으로 설치되어 있다. PC에서 사용할 경우 pip 또는 아나콘다 환경에서 추가적인 설치가 필요하다.\n",
        "\n",
        " 이를 위해서는 다음과 같이 모듈을 불러와야 한다."
      ],
      "metadata": {
        "id": "Lo2YJn57kllb"
      }
    },
    {
      "cell_type": "code",
      "source": [
        "import numpy as np # numpy를 np로 줄여 쓴다."
      ],
      "metadata": {
        "id": "kaYS_TPdkQaf"
      },
      "execution_count": null,
      "outputs": []
    },
    {
      "cell_type": "markdown",
      "source": [
        "### 배열\n",
        "Numpy는 배열(array)을 이용해 자료를 관리한다. 따라서, Numpy 연산을 위해서는 배열을 생성해야 한다."
      ],
      "metadata": {
        "id": "cfKfoNyhU5eb"
      }
    },
    {
      "cell_type": "markdown",
      "source": [
        "벡터를 표현하기 위해서는 1차원 배열을 이용한다. 1차원 배열은 리스트를 이용해 생성할 수 있다. Numpy에서 벡터는 [np.array](https://numpy.org/doc/stable/reference/generated/numpy.array.html) 함수를 이용해 만든다.\n",
        "\n",
        "**주의: 교재에서는 [np.matrix](https://numpy.org/doc/stable/reference/generated/numpy.matrix.html)를 이용하는 방법을 설명하고 있다. 그러나 np.matrix는 더 이상 사용하지 않는 방법이다. 따라서, 여기서는 np.array를 이용하는 방법으로 설명한다.**"
      ],
      "metadata": {
        "id": "2Ddp9PFWVoBw"
      }
    },
    {
      "cell_type": "code",
      "source": [
        "a = np.array([1, 2, 3])  # 리스트에서 1차원 배열 생성\n",
        "print(type(a))           # 출력 \"<class 'numpy.ndarray'>\"\n",
        "print(a.shape)           # 배열 a의 모양. 튜플\n",
        "print(a[0], a[1], a[2])  # 배열 a의 각 요소\n",
        "a[0] = 5                 # 배열 a의 요소를 변경\n",
        "print(a)                 # 배열 a를 화면에 출력"
      ],
      "metadata": {
        "id": "wCnOh0PalpVc"
      },
      "execution_count": null,
      "outputs": []
    },
    {
      "cell_type": "markdown",
      "source": [
        "행렬을 표현하기 위해서는 2차원 배열을 이용한다. 2차원 배열은 리스트의 리스트를 이용해 생성할 수 있다."
      ],
      "metadata": {
        "id": "Rdz18Q0UWDMo"
      }
    },
    {
      "cell_type": "code",
      "source": [
        "b = np.array([[1, 2, 3], [4, 5, 6]])   # 2차원 배열 생성\n",
        "print(b)\n",
        "print(b.shape)                    # 배열 b의 모양. 2행 3열\n",
        "print(b[0, 0], b[0, 1], b[1, 0])  # 배열 b의 각 요소. (행, 열)의 순서"
      ],
      "metadata": {
        "id": "DHk3r2kvWCDE"
      },
      "execution_count": null,
      "outputs": []
    },
    {
      "cell_type": "markdown",
      "source": [
        "### 기본 배열 생성\n",
        "[np.zeros](https://numpy.org/doc/stable/reference/generated/numpy.zeros.html) 함수는 모든 원소를 *0*으로 채운다."
      ],
      "metadata": {
        "id": "oKvVSvqPobtv"
      }
    },
    {
      "cell_type": "code",
      "source": [
        "a = np.zeros((2, 2)) # 모든 값이 0인 2행 2열의 배열 생성\n",
        "print(b)"
      ],
      "metadata": {
        "id": "JVlECtyVoQCq"
      },
      "execution_count": null,
      "outputs": []
    },
    {
      "cell_type": "markdown",
      "source": [
        "[np.ones](https://numpy.org/doc/stable/reference/generated/numpy.ones.html) 함수는 모든 원소를 *1*로 채운다."
      ],
      "metadata": {
        "id": "cGM_bsbUpIER"
      }
    },
    {
      "cell_type": "code",
      "source": [
        "b = np.ones((2, 2)) # 모든 값이 1인 1행 2열 배열 생성\n",
        "print(b)"
      ],
      "metadata": {
        "id": "RsqmD06Ro6QS"
      },
      "execution_count": null,
      "outputs": []
    },
    {
      "cell_type": "markdown",
      "source": [
        "[np.full](https://numpy.org/doc/stable/reference/generated/numpy.full.html) 함수는 모든 원소를 지정한 값으로 채운다."
      ],
      "metadata": {
        "id": "t2_RA7AYWxC9"
      }
    },
    {
      "cell_type": "code",
      "source": [
        "c = np.full((2, 2), 7) # 모든 값이 7인  2행 2열 배열 생성\n",
        "print(c)"
      ],
      "metadata": {
        "id": "eOaoakucWv7n"
      },
      "execution_count": null,
      "outputs": []
    },
    {
      "cell_type": "markdown",
      "source": [
        "[np.eye](https://numpy.org/doc/stable/reference/generated/numpy.eye.html#numpy.eye) 함수는 모든 원소를 *1*로 채운다."
      ],
      "metadata": {
        "id": "MLeMGuvopX-H"
      }
    },
    {
      "cell_type": "code",
      "source": [
        "d = np.eye(2) # 2x2 단위행렬 생성\n",
        "print(d)"
      ],
      "metadata": {
        "id": "dh3f0HjbpAWi"
      },
      "execution_count": null,
      "outputs": []
    },
    {
      "cell_type": "markdown",
      "source": [
        "배열 생성에 관한 상세한 내용은 [여기](http://docs.scipy.org/doc/numpy/user/basics.creation.html#arrays-creation)를 참조하면 된다."
      ],
      "metadata": {
        "id": "jPO1eapaXBHj"
      }
    },
    {
      "cell_type": "markdown",
      "source": [
        "### 배열 슬라이싱\n",
        "리스트에서 범위를 지정하기 위해 사용한 슬라이싱을 배열에 대해서도 사용할 수 있다."
      ],
      "metadata": {
        "id": "0jkCaqx3prZB"
      }
    },
    {
      "cell_type": "code",
      "source": [
        "# 3행 4열의 배열 생성\n",
        "# [[ 1  2  3  4]\n",
        "#  [ 5  6  7  8]\n",
        "#  [ 9 10 11 12]]\n",
        "a = np.array([[1,2,3,4], [5,6,7,8], [9,10,11,12]])\n",
        "\n",
        "# 슬라이싱을 이용하여 첫 두 행(0행과 1행)과 1열, 2열로 이루어진 부분배열을 만든다.\n",
        "b = a[:2, 1:3]\n",
        "\n",
        "# b는 shape가 (2,2)인 배열이 된다.\n",
        "# [[2 3]\n",
        "#  [6 7]]\n",
        "print(b)"
      ],
      "metadata": {
        "id": "HaN6ORAhpFMy"
      },
      "execution_count": null,
      "outputs": []
    },
    {
      "cell_type": "markdown",
      "source": [
        "### 연속값 생성\n",
        "\n",
        "[np.arange](https://numpy.org/doc/stable/reference/generated/numpy.arange.html) 함수는 연속적인 숫자 배열을 생성한다."
      ],
      "metadata": {
        "id": "kow4_j8WtHc_"
      }
    },
    {
      "cell_type": "code",
      "source": [
        "x = np.arange(0, 10) # 0부터 9까지(10은 제외) 1 간격으로 생성\n",
        "print(x)"
      ],
      "metadata": {
        "id": "9ZhRm4_nsluw"
      },
      "execution_count": null,
      "outputs": []
    },
    {
      "cell_type": "code",
      "source": [
        "x = np.arange(0, 1, 0.1) # 0부터 0.9까지(1은 제외) 0.1 간격으로 생성\n",
        "print(x)"
      ],
      "metadata": {
        "id": "xvn_51W0trHu"
      },
      "execution_count": null,
      "outputs": []
    },
    {
      "cell_type": "markdown",
      "source": [
        "[np.linspace](https://numpy.org/doc/stable/reference/generated/numpy.linspace.html) 함수는 등간격으로 연속적인 숫자 배열을 생성한다."
      ],
      "metadata": {
        "id": "l13VjDontyNF"
      }
    },
    {
      "cell_type": "code",
      "source": [
        "d = np.linspace(1, 100, 8) # 1부터 100 사이에 8개의 값을 생성 (100이 포함됨)\n",
        "print(d)"
      ],
      "metadata": {
        "id": "kZI8fp8btlzW"
      },
      "execution_count": null,
      "outputs": []
    },
    {
      "cell_type": "markdown",
      "source": [
        "### 배열 원소별 연산"
      ],
      "metadata": {
        "id": "k6xnPY5LwIe0"
      }
    },
    {
      "cell_type": "code",
      "source": [
        "x = np.array([[1, 2], [3, 4]]) # 2행 2열의 행렬\n",
        "y = np.array([[5, 6], [7, 8]]) # 2행 2열의 행렬\n",
        "\n",
        "print(\"x=\\n\", x)\n",
        "print(\"y=\\n\", y)"
      ],
      "metadata": {
        "id": "v9SEFn25wCSN"
      },
      "execution_count": null,
      "outputs": []
    },
    {
      "cell_type": "code",
      "source": [
        "# 원소별(element-wise) 합\n",
        "print(x + y)\n",
        "print(np.add(x, y))"
      ],
      "metadata": {
        "id": "imSuSK2CwpqG"
      },
      "execution_count": null,
      "outputs": []
    },
    {
      "cell_type": "code",
      "source": [
        "# 원소별 차\n",
        "print(x - y)\n",
        "print(np.subtract(x, y))"
      ],
      "metadata": {
        "id": "xo-DIvgOwy6T"
      },
      "execution_count": null,
      "outputs": []
    },
    {
      "cell_type": "code",
      "source": [
        "# 원소별 곱. 행렬 곱이 아님에 주의\n",
        "print(x * y)\n",
        "print(np.multiply(x, y))"
      ],
      "metadata": {
        "id": "-c4znFL9w0l1"
      },
      "execution_count": null,
      "outputs": []
    },
    {
      "cell_type": "code",
      "source": [
        "# 원소별 나눗셈\n",
        "print(x / y)\n",
        "print(np.divide(x, y))"
      ],
      "metadata": {
        "id": "N_hCiCrhw2w1"
      },
      "execution_count": null,
      "outputs": []
    },
    {
      "cell_type": "markdown",
      "source": [
        "스칼라 변수에 대해 수학 함수를 적용할 때는 *math* 모듈을 이용하였다. 그러나 배열에 대해 수학 함수를 적용할 때는 [numpy가 제공하는 함수](https://numpy.org/doc/stable/reference/routines.math.html#mathematical-functions)를 이용해야 한다.\n",
        "\n",
        "기본적으로 numpy의 함수들은 배열의 각 원소별로 적용된다. 예를 들면, 아래 코드는 *x*의 각 원소에 대해 제곱근을 계산한다."
      ],
      "metadata": {
        "id": "ZqX8L64ZYJlk"
      }
    },
    {
      "cell_type": "code",
      "source": [
        "# 원소별 제곱근\n",
        "print(np.sqrt(x))"
      ],
      "metadata": {
        "id": "ZC4nsR3nw5zM"
      },
      "execution_count": null,
      "outputs": []
    },
    {
      "cell_type": "markdown",
      "source": [
        "### 행렬 연산\n",
        "\n",
        "Numpy는 기본적으로 배열의 원소별 연산을 적용한다. 따라서, 우리가 수학 시간에 배울 행렬 연산을 적용하기 위해서는 주의를 기울여야 한다."
      ],
      "metadata": {
        "id": "3pjSvphLw-4b"
      }
    },
    {
      "cell_type": "code",
      "source": [
        "# 두 개의 벡터를 생성한다.\n",
        "v = np.array([9, 10]) # 1차원 배열로 벡터를 표현한다.\n",
        "w = np.array([11, 12]) # 1차원 배열로 벡터를 표현한다.\n",
        "\n",
        "print(\"v=\", v)\n",
        "print(\"w=\", w)"
      ],
      "metadata": {
        "id": "kysiBkRZxMpW"
      },
      "execution_count": null,
      "outputs": []
    },
    {
      "cell_type": "markdown",
      "source": [
        "벡터의 내적은 [np.dot](https://numpy.org/doc/stable/reference/generated/numpy.dot.html) 함수를 이용해 계산한다."
      ],
      "metadata": {
        "id": "_f380N5cZVBV"
      }
    },
    {
      "cell_type": "code",
      "source": [
        "# 벡터의 내적\n",
        "print(v.dot(w))\n",
        "print(np.dot(v, w))"
      ],
      "metadata": {
        "id": "k91tSnzqxRd2"
      },
      "execution_count": null,
      "outputs": []
    },
    {
      "cell_type": "code",
      "source": [
        "# 행렬 x와 벡터 v의 곱\n",
        "# [[1 2]   [ 9]\n",
        "#  [3 4]]  [10]\n",
        "print(x.dot(v))\n",
        "print(np.dot(x, v))"
      ],
      "metadata": {
        "id": "62xYTfY3xTCN"
      },
      "execution_count": null,
      "outputs": []
    },
    {
      "cell_type": "code",
      "source": [
        "# 행렬 x와 행렬 y의곱. dot() 함수를 이용한다!!!\n",
        "# [[1 2]   [[5 6]\n",
        "#  [3 4]]   [7 8]]\n",
        "print(x.dot(y))\n",
        "print(np.dot(x, y))"
      ],
      "metadata": {
        "id": "2HnI6ERixUyl"
      },
      "execution_count": null,
      "outputs": []
    },
    {
      "cell_type": "markdown",
      "source": [
        "전치행렬은 배열에 '*.T*'를 붙이면 된다."
      ],
      "metadata": {
        "id": "9MWKtgLPaL63"
      }
    },
    {
      "cell_type": "code",
      "source": [
        "x = np.array([[1,2], [3,4]])\n",
        "\n",
        "print(\"x=\\n\", x)\n",
        "print(\"x.T=\\n\", x.T) # 전치행렬"
      ],
      "metadata": {
        "id": "jDrawUfPxdfJ"
      },
      "execution_count": null,
      "outputs": []
    },
    {
      "cell_type": "markdown",
      "source": [
        "전체 Numpy 배열 연산은 [여기](http://docs.scipy.org/doc/numpy/reference/routines.array-manipulation.html)에서 확인할 수 있다."
      ],
      "metadata": {
        "id": "W9Z3cH5Qxl_v"
      }
    },
    {
      "cell_type": "markdown",
      "source": [
        "## Matplotlib\n",
        "[Matplotlib](http://matplotlib.org/)는 그래프 출력 라이브러리이다. 이는 MATLAB의 plot과 유사한 기능을 제공한다.\n",
        "\n",
        "Colab을 이용할 경우, 기본적으로 설치되어 있다. PC에서 사용할 경우 pip 또는 아나콘다 환경에서 추가적인 설치가 필요하다.\n",
        "\n",
        "**주의: 교재에서는 [Matplotlib의 pylab 모듈](https://matplotlib.org/stable/api/pylab.html)을 이용해 그래프를 그린다. 그러나 이 방법은 더 이상 사용하지 않는 방법이다. 따라서, 여기서는 [Matplotlib의 pyplot 모듈](https://matplotlib.org/stable/api/pyplot_summary.html#module-matplotlib.pyplot)을 이용한다.**"
      ],
      "metadata": {
        "id": "SWA26Sc_2liH"
      }
    },
    {
      "cell_type": "markdown",
      "source": [
        "### Matplotlib 불러오기"
      ],
      "metadata": {
        "id": "dJIdfwZX3m_Q"
      }
    },
    {
      "cell_type": "code",
      "source": [
        "import matplotlib.pyplot as plt # Matplotlib 패키지의 pyplot 모듈 불러오기"
      ],
      "metadata": {
        "id": "oU8KOcXyxgjv"
      },
      "execution_count": null,
      "outputs": []
    },
    {
      "cell_type": "markdown",
      "source": [
        "### 그래프 그리기\n",
        "Matplotlib에서는 Numpy 배열을 바로 이용할 수 있다."
      ],
      "metadata": {
        "id": "oMECMj1M3ulA"
      }
    },
    {
      "cell_type": "code",
      "source": [
        "# 사인 곡선의 x,y 좌표를 계산\n",
        "x = np.arange(0, 3 * np.pi, 0.1) # 0에서 3pi까지 0.1 간격으로 값을 생성\n",
        "y = np.sin(x) # 각 x값에 대해 사인값 계산"
      ],
      "metadata": {
        "id": "uYZ2in8X3026"
      },
      "execution_count": null,
      "outputs": []
    },
    {
      "cell_type": "markdown",
      "source": [
        "그래프를 그리는 방법은 매우 다양하나, 여기서는 Matplotlib에서 추천하는 방법을 이용한다."
      ],
      "metadata": {
        "id": "doyNmF6ubf4w"
      }
    },
    {
      "cell_type": "code",
      "source": [
        "# matplotlib를 이용해 점들을 그리기\n",
        "fig, ax = plt.subplots() # 한 개의 Axes를 포함하는 Figure를 생성한다.\n",
        "ax.plot(x, y) # Axes에 그래프를 그린다.\n",
        "ax.set_xlabel('x') # X축 제목\n",
        "ax.set_ylabel('sin(x)') # Y축 제목\n",
        "ax.set_title('Graph of sin(x)') # 그래프 제목\n",
        "ax.grid() # 격자를 표시한다.\n",
        "plt.show()  # 그래프를 나타나게 하기 위해선 plt.show()함수를 호출해야만 한다. Colab에서는 호출하지 않아도 그려진다."
      ],
      "metadata": {
        "id": "kxOBK1C2bbAR"
      },
      "execution_count": null,
      "outputs": []
    },
    {
      "cell_type": "markdown",
      "source": [
        "### 기본 요소들\n",
        "<img src=\"https://matplotlib.org/stable/_images/anatomy.png\" width=\"600\" />\n",
        "<br/>\n",
        "\n",
        "* Figure: 그래프가 그려지는 전체 공간. 여러 개의 Axes를 포함한다.\n",
        "* Axes: 좌표축, 제목 등을 포함한 한 개의 그래프 공간"
      ],
      "metadata": {
        "id": "WIx9idOM34WU"
      }
    },
    {
      "cell_type": "markdown",
      "source": [
        "### 여러 그래프 그리기\n",
        "여러 개의 그래프를 함께 그릴 수도 있다. 이 때에는 [plot](https://matplotlib.org/stable/api/_as_gen/matplotlib.pyplot.plot.html) 함수를 반복해서 호출하면 된다."
      ],
      "metadata": {
        "id": "QleKC0SQ372o"
      }
    },
    {
      "cell_type": "code",
      "source": [
        "# 사인과 코사인 곡선의 x,y 좌표를 계산\n",
        "x = np.arange(0, 3 * np.pi, 0.1)\n",
        "y_sin = np.sin(x)\n",
        "y_cos = np.cos(x)\n",
        "\n",
        "# matplotlib를 이용해 점들을 그리기\n",
        "fig, ax = plt.subplots() # 한 개의 Axes를 포함하는 Figure를 생성한다.\n",
        "\n",
        "ax.plot(x, y_sin, label=\"Sine\") # (x, y_sin) 그래프를 Axes에 그린다. 범례를 Sine으로 표시한다.\n",
        "ax.plot(x, y_cos, label=\"Cosine\") # (x, y_cos) 그래프를 Axes에 그린다. 범례를 Cosine로 표시한다.\n",
        "\n",
        "ax.set_xlabel('x') # X축 제목\n",
        "ax.set_ylabel('y') # Y축 제목\n",
        "ax.set_title('Sine and Cosine') # 제목\n",
        "ax.legend() # 범례를 표시한다.\n",
        "ax.grid() # 격자를 표시한다.\n",
        "plt.show()"
      ],
      "metadata": {
        "id": "5wYSw7pZ4MNB"
      },
      "execution_count": null,
      "outputs": []
    },
    {
      "cell_type": "markdown",
      "source": [
        "Matplotlib의 사용법에 대한 추가적인 설명은 [여기](https://matplotlib.org/stable/tutorials/index.html)를 참조한다."
      ],
      "metadata": {
        "id": "W4W1DHC84RHO"
      }
    },
    {
      "cell_type": "markdown",
      "source": [
        "## 정규 분포 함수 그리기\n",
        "이번에는 여러 분들이 직접 그래프를 그리는 코드를 만들어 보겠다. 이번에 그릴 그래프는 정규 분포의 확률 밀도 함수이다. 이는 다음과 같이 정의된다.\n",
        "\n",
        "$$ f(x)=\\frac{1}{\\sqrt{2\\pi}} e^{\\frac{-x^2}{2}} $$\n",
        "\n",
        "함수 $f(x)$를 $x=-5$에서 $x=5$의 범위에 대해 계산하고, 이를 그래프로 그려보겠다."
      ],
      "metadata": {
        "id": "jq416qv4dXyT"
      }
    },
    {
      "cell_type": "markdown",
      "source": [
        "그래프를 그리기 위해서는 $x=-5$에서 $x=5$의 범위에 대해 함수 $f(x)$를 계산해야 한다. 따라서, $x$를 Numpy 배열로 표현해 주어야 한다. 여기서는 배열 *x*를 -5에서 5까지 0.1 간격으로 표현하겠다.\n",
        "\n",
        "**지시: [np.arange](https://numpy.org/doc/stable/reference/generated/numpy.arange.html) 함수를 이용해 -5부터 5까지 0.1 간격으로 값을 가지는 배열 *x*를 생성하시오.**"
      ],
      "metadata": {
        "id": "liNBrgPGfTGR"
      }
    },
    {
      "cell_type": "code",
      "source": [
        "## x가 -5에서 5까지 0.1 간격의 값을 가지도록 아래 코드를 적절히 수정하시오.\n",
        "#### 코드 시작 ####\n",
        "x = [-5, 0, 5]\n",
        "#### 코드 종료 ####\n",
        "\n",
        "print(x) # [-5 -4.9 -4.8 ... 4.9  4.99999999]가 출력되어야 한다. 마지막 값은 정확히 5가 안 나올 수있다."
      ],
      "metadata": {
        "id": "AET_9h03fy_x"
      },
      "execution_count": null,
      "outputs": []
    },
    {
      "cell_type": "markdown",
      "source": [
        "*x* 값을 이용해 정규 분포 함수 $f(x)$의 값을 계산한다. 이 때, 주의해야 할 점이 있다. $f(x)$에서 $\\frac{1}{\\sqrt{2\\pi}}$을 계산할 때, 제곱근은 배열이 아닌 스칼라 이므로, *math.sqrt*를 이용해야 한다. 반면, $e^{\\frac{-x^2}{2}}$에서 지수함수 $e$를 계산할 때, *x*는 배열이므로 *np.exp*를 이용해야 한다."
      ],
      "metadata": {
        "id": "t7Wt7qiAyK9p"
      }
    },
    {
      "cell_type": "code",
      "source": [
        "## x를 이용해 f 값을 계산하는 코드를 완성하시오.\n",
        "#### 코드 시작 ####\n",
        "f = x\n",
        "#### 코드 종료 ####"
      ],
      "metadata": {
        "id": "Yl0QiVyygTyY"
      },
      "execution_count": null,
      "outputs": []
    },
    {
      "cell_type": "markdown",
      "source": [
        "앞에 작성한 코드를 참고하여, *x*와 *f*의 그래프를 다음과 같이 출력한다.\n",
        "\n",
        "![image.png](data:image/png;base64,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)\n",
        "\n",
        "**지시: 위의 그래프와 동일하게 출력되도록, 아래 코드를 완성하시오.**"
      ],
      "metadata": {
        "id": "MucrfQYH1CMD"
      }
    },
    {
      "cell_type": "code",
      "source": [
        "## x와 f를 이용해 그래프를 출력하는 코드를 완성하시오.\n",
        "#### 코드 시작 ####\n",
        "fig, ax = plt.subplots()\n",
        "plt.show()\n",
        "#### 코드 종료 ####"
      ],
      "metadata": {
        "id": "W2N-U44hzHMs"
      },
      "execution_count": null,
      "outputs": []
    },
    {
      "cell_type": "markdown",
      "source": [
        "수고하셨습니다."
      ],
      "metadata": {
        "id": "tHo2EP441kdR"
      }
    }
  ],
  "metadata": {
    "kernelspec": {
      "display_name": "Python 3",
      "name": "python3"
    },
    "language_info": {
      "codemirror_mode": {
        "name": "ipython",
        "version": 3
      },
      "file_extension": ".py",
      "mimetype": "text/x-python",
      "name": "python",
      "nbconvert_exporter": "python",
      "pygments_lexer": "ipython3",
      "version": "3.11.5"
    },
    "colab": {
      "provenance": [],
      "toc_visible": true,
      "include_colab_link": true
    }
  },
  "nbformat": 4,
  "nbformat_minor": 0
}